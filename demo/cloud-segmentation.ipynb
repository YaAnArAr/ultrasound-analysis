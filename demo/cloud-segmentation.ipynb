{
 "cells": [
  {
   "cell_type": "code",
   "execution_count": 1,
   "metadata": {},
   "outputs": [],
   "source": [
    "import matplotlib.pyplot as plt\n",
    "import matplotlib.patches as patches\n",
    "import numpy as np\n",
    "\n",
    "from IPython.display import clear_output \n",
    "\n",
    "from src.videotools import read_video\n",
    "from src.processing import get_frame_colors, PixelColor, get_clouds"
   ]
  },
  {
   "cell_type": "code",
   "execution_count": 17,
   "metadata": {},
   "outputs": [
    {
     "data": {
      "image/png": "[encoded data removed]",
      "text/plain": [
       "<Figure size 640x480 with 1 Axes>"
      ]
     },
     "metadata": {},
     "output_type": "display_data"
    }
   ],
   "source": [
    "PAUSE = 1/100\n",
    "SENSIVITY = 70\n",
    "\n",
    "\n",
    "def plot_cloud(cloud, color: str):\n",
    "    (x_min, x_max), (y_min, y_max) = cloud.bounding_box()\n",
    "    plt.gca().add_patch(patches.Rectangle((y_min - 1, x_min - 1), y_max - y_min + 2, x_max - x_min + 2, edgecolor=color, facecolor='none', linewidth=1.5))\n",
    "\n",
    "\n",
    "for frame in read_video('../data/image04.wmv'):\n",
    "    clear_output(True)\n",
    "    colors = get_frame_colors(frame, sensivity=SENSIVITY)\n",
    "    red_clouds = get_clouds(colors, PixelColor.RED)\n",
    "    f = np.zeros_like(frame, dtype=np.uint8)\n",
    "    f[:, :, 0] += colors == PixelColor.RED.value\n",
    "    f[:, :, 2] += colors == PixelColor.BLUE.value\n",
    "    plt.imshow(255 * f)\n",
    "    ax = plt.gca()\n",
    "    for cloud in red_clouds:\n",
    "        plot_cloud(cloud, 'green')\n",
    "    blue_clouds = get_clouds(colors, PixelColor.BLUE)\n",
    "    for cloud in blue_clouds:\n",
    "        plot_cloud(cloud, 'yellow')\n",
    "    plt.axis('off')\n",
    "    plt.pause(PAUSE)\n",
    "    plt.show()"
   ]
  }
 ],
 "metadata": {
  "kernelspec": {
   "display_name": "uzi-env",
   "language": "python",
   "name": "python3"
  },
  "language_info": {
   "codemirror_mode": {
    "name": "ipython",
    "version": 3
   },
   "file_extension": ".py",
   "mimetype": "text/x-python",
   "name": "python",
   "nbconvert_exporter": "python",
   "pygments_lexer": "ipython3",
   "version": "3.12.3"
  }
 },
 "nbformat": 4,
 "nbformat_minor": 2
}
