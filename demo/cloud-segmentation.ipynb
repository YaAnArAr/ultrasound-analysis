{
 "cells": [
  {
   "cell_type": "code",
   "execution_count": 1,
   "metadata": {},
   "outputs": [],
   "source": [
    "import matplotlib.pyplot as plt\n",
    "import matplotlib.patches as patches\n",
    "import numpy as np\n",
    "\n",
    "from IPython.display import clear_output \n",
    "\n",
    "from src.videotools import read_video\n",
    "from src.processing import get_frame_colors, PixelColor, get_clouds"
   ]
  },
  {
   "cell_type": "code",
   "execution_count": 15,
   "metadata": {},
   "outputs": [
    {
     "ename": "KeyboardInterrupt",
     "evalue": "",
     "output_type": "error",
     "traceback": [
      "\u001b[1;31m---------------------------------------------------------------------------\u001b[0m",
      "\u001b[1;31mKeyboardInterrupt\u001b[0m                         Traceback (most recent call last)",
      "Cell \u001b[1;32mIn[15], line 13\u001b[0m\n\u001b[0;32m     11\u001b[0m clear_output(\u001b[38;5;28;01mTrue\u001b[39;00m)\n\u001b[0;32m     12\u001b[0m colors \u001b[38;5;241m=\u001b[39m get_frame_colors(frame, sensivity\u001b[38;5;241m=\u001b[39mSENSIVITY)\n\u001b[1;32m---> 13\u001b[0m red_clouds \u001b[38;5;241m=\u001b[39m \u001b[43mget_clouds\u001b[49m\u001b[43m(\u001b[49m\u001b[43mcolors\u001b[49m\u001b[43m,\u001b[49m\u001b[43m \u001b[49m\u001b[43mPixelColor\u001b[49m\u001b[38;5;241;43m.\u001b[39;49m\u001b[43mRED\u001b[49m\u001b[43m)\u001b[49m\n\u001b[0;32m     14\u001b[0m f \u001b[38;5;241m=\u001b[39m np\u001b[38;5;241m.\u001b[39mzeros_like(frame, dtype\u001b[38;5;241m=\u001b[39mnp\u001b[38;5;241m.\u001b[39muint8)\n\u001b[0;32m     15\u001b[0m f[:, :, \u001b[38;5;241m0\u001b[39m] \u001b[38;5;241m+\u001b[39m\u001b[38;5;241m=\u001b[39m colors \u001b[38;5;241m==\u001b[39m PixelColor\u001b[38;5;241m.\u001b[39mRED\u001b[38;5;241m.\u001b[39mvalue\n",
      "File \u001b[1;32mD:\\Other work\\uzi\\src\\processing\\processing.py:116\u001b[0m, in \u001b[0;36mget_clouds\u001b[1;34m(frame, color)\u001b[0m\n\u001b[0;32m    114\u001b[0m \u001b[38;5;28;01mfor\u001b[39;00m i \u001b[38;5;129;01min\u001b[39;00m \u001b[38;5;28mrange\u001b[39m(\u001b[38;5;241m1\u001b[39m, frame\u001b[38;5;241m.\u001b[39mshape[\u001b[38;5;241m0\u001b[39m] \u001b[38;5;241m+\u001b[39m \u001b[38;5;241m1\u001b[39m):\n\u001b[0;32m    115\u001b[0m     \u001b[38;5;28;01mfor\u001b[39;00m j \u001b[38;5;129;01min\u001b[39;00m \u001b[38;5;28mrange\u001b[39m(\u001b[38;5;241m1\u001b[39m, frame\u001b[38;5;241m.\u001b[39mshape[\u001b[38;5;241m1\u001b[39m] \u001b[38;5;241m+\u001b[39m \u001b[38;5;241m1\u001b[39m):\n\u001b[1;32m--> 116\u001b[0m         \u001b[38;5;28;01mif\u001b[39;00m gray_scaled_image[i][j] \u001b[38;5;241m==\u001b[39m \u001b[38;5;241m1\u001b[39m \u001b[38;5;129;01mand\u001b[39;00m modified_image[i][j] \u001b[38;5;241m==\u001b[39m \u001b[38;5;241m0\u001b[39m:\n\u001b[0;32m    117\u001b[0m             queue \u001b[38;5;241m=\u001b[39m Queue()\n\u001b[0;32m    118\u001b[0m             cloud \u001b[38;5;241m=\u001b[39m Cloud(color\u001b[38;5;241m=\u001b[39mcolor, points\u001b[38;5;241m=\u001b[39m\u001b[38;5;28mset\u001b[39m())\n",
      "\u001b[1;31mKeyboardInterrupt\u001b[0m: "
     ]
    }
   ],
   "source": [
    "PAUSE = 1/100\n",
    "SENSIVITY = 70\n",
    "\n",
    "\n",
    "def plot_cloud(cloud, color: str):\n",
    "    (x_min, x_max), (y_min, y_max) = cloud.bounding_box()\n",
    "    plt.gca().add_patch(patches.Rectangle((y_min, x_min), y_max - y_min, x_max - x_min, edgecolor=color, facecolor='none', linewidth=1.5))\n",
    "\n",
    "\n",
    "for frame in read_video('../data/image04.wmv'):\n",
    "    clear_output(True)\n",
    "    colors = get_frame_colors(frame, sensivity=SENSIVITY)\n",
    "    red_clouds = get_clouds(colors, PixelColor.RED)\n",
    "    f = np.zeros_like(frame, dtype=np.uint8)\n",
    "    f[:, :, 0] += colors == PixelColor.RED.value\n",
    "    f[:, :, 2] += colors == PixelColor.BLUE.value\n",
    "    plt.imshow(255 * f)\n",
    "    ax = plt.gca()\n",
    "    for cloud in red_clouds:\n",
    "        plot_cloud(cloud, 'green')\n",
    "    blue_clouds = get_clouds(colors, PixelColor.BLUE)\n",
    "    for cloud in blue_clouds:\n",
    "        plot_cloud(cloud, 'yellow')\n",
    "    plt.axis('off')\n",
    "    plt.pause(PAUSE)\n",
    "    plt.show()"
   ]
  },
  {
   "cell_type": "code",
   "execution_count": 34,
   "metadata": {},
   "outputs": [
    {
     "data": {
      "text/plain": [
       "<matplotlib.image.AxesImage at 0x28807ecc530>"
      ]
     },
     "execution_count": 34,
     "metadata": {},
     "output_type": "execute_result"
    },
    {
     "data": {
      "image/png": "[encoded data removed]",
      "text/plain": [
       "<Figure size 640x480 with 1 Axes>"
      ]
     },
     "metadata": {},
     "output_type": "display_data"
    }
   ],
   "source": [
    "plt.imshow(get_frame_colors(frame) == PixelColor)"
   ]
  },
  {
   "cell_type": "code",
   "execution_count": 31,
   "metadata": {},
   "outputs": [],
   "source": [
    "f = np.zeros_like(frame, dtype=np.uint8)\n",
    "f[:, :, 0] += colors == PixelColor.RED\n",
    "f[:, :, 2] += colors == PixelColor.BLUE"
   ]
  },
  {
   "cell_type": "code",
   "execution_count": 32,
   "metadata": {},
   "outputs": [
    {
     "data": {
      "text/plain": [
       "<matplotlib.image.AxesImage at 0x28807eb0dd0>"
      ]
     },
     "execution_count": 32,
     "metadata": {},
     "output_type": "execute_result"
    },
    {
     "data": {
      "image/png": "[encoded data removed]",
      "text/plain": [
       "<Figure size 640x480 with 1 Axes>"
      ]
     },
     "metadata": {},
     "output_type": "display_data"
    }
   ],
   "source": [
    "plt.imshow(f)"
   ]
  }
 ],
 "metadata": {
  "kernelspec": {
   "display_name": "uzi-env",
   "language": "python",
   "name": "python3"
  },
  "language_info": {
   "codemirror_mode": {
    "name": "ipython",
    "version": 3
   },
   "file_extension": ".py",
   "mimetype": "text/x-python",
   "name": "python",
   "nbconvert_exporter": "python",
   "pygments_lexer": "ipython3",
   "version": "3.12.3"
  }
 },
 "nbformat": 4,
 "nbformat_minor": 2
}
